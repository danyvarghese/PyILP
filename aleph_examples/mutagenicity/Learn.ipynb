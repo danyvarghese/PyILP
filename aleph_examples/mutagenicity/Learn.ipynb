{
 "cells": [
  {
   "cell_type": "code",
   "execution_count": 1,
   "id": "1d62b46d",
   "metadata": {},
   "outputs": [],
   "source": [
    "import sys\n",
    "sys.path.insert(0, '../../PyILP')\n",
    "from PyILP import *"
   ]
  },
  {
   "cell_type": "code",
   "execution_count": 2,
   "id": "d867f7da",
   "metadata": {},
   "outputs": [
    {
     "name": "stdout",
     "output_type": "stream",
     "text": [
      "['active(A) :-   ind1(A,1.0).', 'active(A) :-   atm(A,B,c,16,C), ring_size_5(A,D).', 'active(A) :-   atm(A,B,n,34,C), atm(A,D,n,34,C), bond(A,B,D,7).']\n",
      "+----------+ Testing +----------+\n",
      "+---------------------+------------------+------------------+\n",
      "|       n = 48        | Positive(Actual) | Negative(Actual) |\n",
      "+=====================+==================+==================+\n",
      "| Positive(Predicted) | 25               | 1                |\n",
      "+---------------------+------------------+------------------+\n",
      "| Negative(Predicted) | 7                | 15               |\n",
      "+---------------------+------------------+------------------+\n",
      "+-------------+-------+\n",
      "|   Metric    |   #   |\n",
      "+=============+=======+\n",
      "| Accuracy    | 0.833 |\n",
      "+-------------+-------+\n",
      "| Precision   | 0.962 |\n",
      "+-------------+-------+\n",
      "| Sensitivity | 0.781 |\n",
      "+-------------+-------+\n",
      "| Specificity | 0.938 |\n",
      "+-------------+-------+\n",
      "| F1 Score    | 0.862 |\n",
      "+-------------+-------+\n"
     ]
    }
   ],
   "source": [
    "model_1=aleph_learn(file=\"background.pl\", test_size=0.25,  settings=\"modes.pl\")"
   ]
  },
  {
   "cell_type": "code",
   "execution_count": 3,
   "id": "dc2046c5",
   "metadata": {},
   "outputs": [
    {
     "data": {
      "text/plain": [
       "['active(A) :-   ind1(A,1.0).',\n",
       " 'active(A) :-   atm(A,B,c,16,C), ring_size_5(A,D).',\n",
       " 'active(A) :-   atm(A,B,n,34,C), atm(A,D,n,34,C), bond(A,B,D,7).']"
      ]
     },
     "execution_count": 3,
     "metadata": {},
     "output_type": "execute_result"
    }
   ],
   "source": [
    "model_1.hypothesis"
   ]
  },
  {
   "cell_type": "code",
   "execution_count": 4,
   "id": "6b27036b",
   "metadata": {},
   "outputs": [
    {
     "data": {
      "text/plain": [
       "0.833"
      ]
     },
     "execution_count": 4,
     "metadata": {},
     "output_type": "execute_result"
    }
   ],
   "source": [
    "model_1.accuracy"
   ]
  },
  {
   "cell_type": "code",
   "execution_count": null,
   "id": "7994e282",
   "metadata": {
    "scrolled": true
   },
   "outputs": [
    {
     "name": "stdout",
     "output_type": "stream",
     "text": [
      "['active(A) :-   ind1(A,1.0).', 'active(A) :-   atm(A,B,n,34,C), atm(A,D,n,34,C), bond(A,B,D,7).', 'active(A) :-   atm(A,B,c,16,C), ring_size_5(A,D).', 'active(A) :-   atm(A,B,c,29,C), bond(A,D,E,1), bond(A,F,D,2).']\n",
      "+----------+ Testing +----------+\n",
      "+---------------------+------------------+------------------+\n",
      "|       n = 20        | Positive(Actual) | Negative(Actual) |\n",
      "+=====================+==================+==================+\n",
      "| Positive(Predicted) | 11               | 2                |\n",
      "+---------------------+------------------+------------------+\n",
      "| Negative(Predicted) | 2                | 5                |\n",
      "+---------------------+------------------+------------------+\n",
      "+-------------+-------+\n",
      "|   Metric    |   #   |\n",
      "+=============+=======+\n",
      "| Accuracy    | 0.800 |\n",
      "+-------------+-------+\n",
      "| Precision   | 0.846 |\n",
      "+-------------+-------+\n",
      "| Sensitivity | 0.846 |\n",
      "+-------------+-------+\n",
      "| Specificity | 0.714 |\n",
      "+-------------+-------+\n",
      "| F1 Score    | 0.846 |\n",
      "+-------------+-------+\n",
      "['active(A) :-   ind1(A,1.0).', 'active(A) :-   bond(A,B,C,2), bond(A,C,D,1), ring_size_5(A,E).', 'active(A) :-   atm(A,B,c,29,C), bond(A,D,E,1), bond(A,F,D,2).']\n",
      "+----------+ Testing +----------+\n",
      "+---------------------+------------------+------------------+\n",
      "|       n = 20        | Positive(Actual) | Negative(Actual) |\n",
      "+=====================+==================+==================+\n",
      "| Positive(Predicted) | 9                | 0                |\n",
      "+---------------------+------------------+------------------+\n",
      "| Negative(Predicted) | 4                | 7                |\n",
      "+---------------------+------------------+------------------+\n",
      "+-------------+-------+\n",
      "|   Metric    |   #   |\n",
      "+=============+=======+\n",
      "| Accuracy    | 0.800 |\n",
      "+-------------+-------+\n",
      "| Precision   | 1     |\n",
      "+-------------+-------+\n",
      "| Sensitivity | 0.692 |\n",
      "+-------------+-------+\n",
      "| Specificity | 1     |\n",
      "+-------------+-------+\n",
      "| F1 Score    | 0.818 |\n",
      "+-------------+-------+\n",
      "['active(A) :-   ind1(A,1.0).', 'active(A) :-   bond(A,B,C,2), bond(A,C,D,1), ring_size_5(A,E).', 'active(A) :-   atm(A,B,n,34,C), atm(A,D,n,34,C), bond(A,B,D,7).']\n",
      "+----------+ Testing +----------+\n",
      "+---------------------+------------------+------------------+\n",
      "|       n = 20        | Positive(Actual) | Negative(Actual) |\n",
      "+=====================+==================+==================+\n",
      "| Positive(Predicted) | 13               | 0                |\n",
      "+---------------------+------------------+------------------+\n",
      "| Negative(Predicted) | 0                | 7                |\n",
      "+---------------------+------------------+------------------+\n",
      "+-------------+---+\n",
      "|   Metric    | # |\n",
      "+=============+===+\n",
      "| Accuracy    | 1 |\n",
      "+-------------+---+\n",
      "| Precision   | 1 |\n",
      "+-------------+---+\n",
      "| Sensitivity | 1 |\n",
      "+-------------+---+\n",
      "| Specificity | 1 |\n",
      "+-------------+---+\n",
      "| F1 Score    | 1 |\n",
      "+-------------+---+\n",
      "['active(A) :-   ind1(A,1.0).', 'active(A) :-   bond(A,B,C,2), bond(A,C,D,1), ring_size_5(A,E).', 'active(A) :-   atm(A,B,c,29,C), bond(A,D,E,1), bond(A,F,D,2).', 'active(A) :-   atm(A,B,n,34,C), atm(A,D,n,34,C), bond(A,B,D,7).']\n",
      "+----------+ Testing +----------+\n",
      "+---------------------+------------------+------------------+\n",
      "|       n = 19        | Positive(Actual) | Negative(Actual) |\n",
      "+=====================+==================+==================+\n",
      "| Positive(Predicted) | 12               | 1                |\n",
      "+---------------------+------------------+------------------+\n",
      "| Negative(Predicted) | 1                | 5                |\n",
      "+---------------------+------------------+------------------+\n",
      "+-------------+-------+\n",
      "|   Metric    |   #   |\n",
      "+=============+=======+\n",
      "| Accuracy    | 0.895 |\n",
      "+-------------+-------+\n",
      "| Precision   | 0.923 |\n",
      "+-------------+-------+\n",
      "| Sensitivity | 0.923 |\n",
      "+-------------+-------+\n",
      "| Specificity | 0.833 |\n",
      "+-------------+-------+\n",
      "| F1 Score    | 0.923 |\n",
      "+-------------+-------+\n",
      "['active(A) :-   ind1(A,1.0).', 'active(A) :-   bond(A,B,C,2), bond(A,C,D,1), ring_size_5(A,E).', 'active(A) :-   atm(A,B,c,29,C), bond(A,D,E,1), bond(A,F,D,2).', 'active(A) :-   atm(A,B,n,34,C), atm(A,D,n,34,C), bond(A,B,D,7).']\n",
      "+----------+ Testing +----------+\n",
      "+---------------------+------------------+------------------+\n",
      "|       n = 19        | Positive(Actual) | Negative(Actual) |\n",
      "+=====================+==================+==================+\n",
      "| Positive(Predicted) | 10               | 2                |\n",
      "+---------------------+------------------+------------------+\n",
      "| Negative(Predicted) | 3                | 4                |\n",
      "+---------------------+------------------+------------------+\n",
      "+-------------+-------+\n",
      "|   Metric    |   #   |\n",
      "+=============+=======+\n",
      "| Accuracy    | 0.737 |\n",
      "+-------------+-------+\n",
      "| Precision   | 0.833 |\n",
      "+-------------+-------+\n",
      "| Sensitivity | 0.769 |\n",
      "+-------------+-------+\n",
      "| Specificity | 0.667 |\n",
      "+-------------+-------+\n",
      "| F1 Score    | 0.800 |\n",
      "+-------------+-------+\n",
      "['active(A) :-   ind1(A,1.0).', 'active(A) :-   bond(A,B,C,2), bond(A,C,D,1), ring_size_5(A,E).', 'active(A) :-   atm(A,B,n,34,C), atm(A,D,n,34,C), bond(A,B,D,7).']\n",
      "+----------+ Testing +----------+\n",
      "+---------------------+------------------+------------------+\n",
      "|       n = 18        | Positive(Actual) | Negative(Actual) |\n",
      "+=====================+==================+==================+\n",
      "| Positive(Predicted) | 10               | 0                |\n",
      "+---------------------+------------------+------------------+\n",
      "| Negative(Predicted) | 2                | 6                |\n",
      "+---------------------+------------------+------------------+\n",
      "+-------------+-------+\n",
      "|   Metric    |   #   |\n",
      "+=============+=======+\n",
      "| Accuracy    | 0.889 |\n",
      "+-------------+-------+\n",
      "| Precision   | 1     |\n",
      "+-------------+-------+\n",
      "| Sensitivity | 0.833 |\n",
      "+-------------+-------+\n",
      "| Specificity | 1     |\n",
      "+-------------+-------+\n",
      "| F1 Score    | 0.909 |\n",
      "+-------------+-------+\n",
      "['active(A) :-   ind1(A,1.0).', 'active(A) :-   bond(A,B,C,2), bond(A,C,D,1), ring_size_5(A,E).', 'active(A) :-   atm(A,B,c,29,C), bond(A,D,E,1), bond(A,F,D,2).', 'active(A) :-   atm(A,B,n,34,C), atm(A,D,n,34,C), bond(A,B,D,7).']\n",
      "+----------+ Testing +----------+\n"
     ]
    }
   ],
   "source": [
    "model_2=aleph_cross_validation(file=\"background.pl\", shuffle=True, CV=10, settings=\"modes.pl\")"
   ]
  },
  {
   "cell_type": "code",
   "execution_count": null,
   "id": "b3a5adcd",
   "metadata": {},
   "outputs": [],
   "source": [
    "model_2.accuracy"
   ]
  },
  {
   "cell_type": "code",
   "execution_count": null,
   "id": "f37bb064",
   "metadata": {},
   "outputs": [],
   "source": [
    "np.mean(model_2.accuracy)"
   ]
  },
  {
   "cell_type": "code",
   "execution_count": null,
   "id": "2d44f8b6",
   "metadata": {},
   "outputs": [],
   "source": [
    "pip install PyILP"
   ]
  },
  {
   "cell_type": "code",
   "execution_count": null,
   "id": "de92ba8d",
   "metadata": {},
   "outputs": [],
   "source": []
  }
 ],
 "metadata": {
  "kernelspec": {
   "display_name": "Python 3",
   "language": "python",
   "name": "python3"
  },
  "language_info": {
   "codemirror_mode": {
    "name": "ipython",
    "version": 3
   },
   "file_extension": ".py",
   "mimetype": "text/x-python",
   "name": "python",
   "nbconvert_exporter": "python",
   "pygments_lexer": "ipython3",
   "version": "3.8.8"
  }
 },
 "nbformat": 4,
 "nbformat_minor": 5
}
