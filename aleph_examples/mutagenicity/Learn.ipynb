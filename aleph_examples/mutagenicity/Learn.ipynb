{
 "cells": [
  {
   "cell_type": "code",
   "execution_count": 1,
   "id": "1d62b46d",
   "metadata": {},
   "outputs": [],
   "source": [
    "import sys\n",
    "sys.path.insert(0, '../../')\n",
    "from PyILP import *"
   ]
  },
  {
   "cell_type": "code",
   "execution_count": 2,
   "id": "d867f7da",
   "metadata": {},
   "outputs": [
    {
     "name": "stdout",
     "output_type": "stream",
     "text": [
      "['active(A) :-   ind1(A,1.0).', 'active(A) :-   atm(A,B,c,16,C), ring_size_5(A,D).', 'active(A) :-   atm(A,B,n,34,C), atm(A,D,n,34,C), bond(A,B,D,7).']\n",
      "+----------+ Testing +----------+\n",
      "+---------------------+------------------+------------------+\n",
      "|       n = 48        | Positive(Actual) | Negative(Actual) |\n",
      "+=====================+==================+==================+\n",
      "| Positive(Predicted) | 25               | 1                |\n",
      "+---------------------+------------------+------------------+\n",
      "| Negative(Predicted) | 7                | 15               |\n",
      "+---------------------+------------------+------------------+\n",
      "+-------------+-------+\n",
      "|   Metric    |   #   |\n",
      "+=============+=======+\n",
      "| Accuracy    | 0.833 |\n",
      "+-------------+-------+\n",
      "| Precision   | 0.962 |\n",
      "+-------------+-------+\n",
      "| Sensitivity | 0.781 |\n",
      "+-------------+-------+\n",
      "| Specificity | 0.938 |\n",
      "+-------------+-------+\n",
      "| F1 Score    | 0.862 |\n",
      "+-------------+-------+\n"
     ]
    }
   ],
   "source": [
    "model_1=aleph_learn(file=\"background.pl\", test_size=0.25,  settings=\"modes.pl\")"
   ]
  },
  {
   "cell_type": "code",
   "execution_count": 3,
   "id": "dc2046c5",
   "metadata": {},
   "outputs": [
    {
     "data": {
      "text/plain": [
       "['active(A) :-   ind1(A,1.0).',\n",
       " 'active(A) :-   atm(A,B,c,16,C), ring_size_5(A,D).',\n",
       " 'active(A) :-   atm(A,B,n,34,C), atm(A,D,n,34,C), bond(A,B,D,7).']"
      ]
     },
     "execution_count": 3,
     "metadata": {},
     "output_type": "execute_result"
    }
   ],
   "source": [
    "model_1.hypothesis"
   ]
  },
  {
   "cell_type": "code",
   "execution_count": 4,
   "id": "6b27036b",
   "metadata": {},
   "outputs": [
    {
     "data": {
      "text/plain": [
       "0.833"
      ]
     },
     "execution_count": 4,
     "metadata": {},
     "output_type": "execute_result"
    }
   ],
   "source": [
    "model_1.accuracy"
   ]
  },
  {
   "cell_type": "code",
   "execution_count": 4,
   "id": "7994e282",
   "metadata": {
    "scrolled": true
   },
   "outputs": [
    {
     "name": "stdout",
     "output_type": "stream",
     "text": [
      "['active(A) :-   ind1(A,1.0).', 'active(A) :-   bond(A,B,C,1), bond(A,D,B,2), bond(A,B,E,2).', 'active(A) :-   bond(A,B,C,2), bond(A,C,D,1), ring_size_5(A,E).', 'active(A) :-   atm(A,B,n,34,C), atm(A,D,n,34,C), bond(A,B,D,7).']\n",
      "+----------+ Testing +----------+\n",
      "+---------------------+------------------+------------------+\n",
      "|       n = 20        | Positive(Actual) | Negative(Actual) |\n",
      "+=====================+==================+==================+\n",
      "| Positive(Predicted) | 10               | 2                |\n",
      "+---------------------+------------------+------------------+\n",
      "| Negative(Predicted) | 3                | 5                |\n",
      "+---------------------+------------------+------------------+\n",
      "+-------------+-------+\n",
      "|   Metric    |   #   |\n",
      "+=============+=======+\n",
      "| Accuracy    | 0.750 |\n",
      "+-------------+-------+\n",
      "| Precision   | 0.833 |\n",
      "+-------------+-------+\n",
      "| Sensitivity | 0.769 |\n",
      "+-------------+-------+\n",
      "| Specificity | 0.714 |\n",
      "+-------------+-------+\n",
      "| F1 Score    | 0.800 |\n",
      "+-------------+-------+\n",
      "['active(A) :-   ind1(A,1.0).', 'active(A) :-   bond(A,B,C,2), bond(A,C,D,1), ring_size_5(A,E).', 'active(A) :-   atm(A,B,n,34,C), atm(A,D,n,34,C), bond(A,B,D,7).', 'active(A) :-   atm(A,B,c,29,C), bond(A,D,E,1), bond(A,F,D,2).']\n",
      "+----------+ Testing +----------+\n",
      "+---------------------+------------------+------------------+\n",
      "|       n = 20        | Positive(Actual) | Negative(Actual) |\n",
      "+=====================+==================+==================+\n",
      "| Positive(Predicted) | 11               | 0                |\n",
      "+---------------------+------------------+------------------+\n",
      "| Negative(Predicted) | 2                | 7                |\n",
      "+---------------------+------------------+------------------+\n",
      "+-------------+-------+\n",
      "|   Metric    |   #   |\n",
      "+=============+=======+\n",
      "| Accuracy    | 0.900 |\n",
      "+-------------+-------+\n",
      "| Precision   | 1     |\n",
      "+-------------+-------+\n",
      "| Sensitivity | 0.846 |\n",
      "+-------------+-------+\n",
      "| Specificity | 1     |\n",
      "+-------------+-------+\n",
      "| F1 Score    | 0.917 |\n",
      "+-------------+-------+\n",
      "['active(A) :-   ind1(A,1.0).', 'active(A) :-   bond(A,B,C,1), bond(A,D,B,2), bond(A,B,E,2).', 'active(A) :-   atm(A,B,n,34,C), atm(A,D,n,34,C), bond(A,B,D,7).', 'active(A) :-   bond(A,B,C,2), bond(A,C,D,1), ring_size_5(A,E).']\n",
      "+----------+ Testing +----------+\n",
      "+---------------------+------------------+------------------+\n",
      "|       n = 20        | Positive(Actual) | Negative(Actual) |\n",
      "+=====================+==================+==================+\n",
      "| Positive(Predicted) | 12               | 2                |\n",
      "+---------------------+------------------+------------------+\n",
      "| Negative(Predicted) | 1                | 5                |\n",
      "+---------------------+------------------+------------------+\n",
      "+-------------+-------+\n",
      "|   Metric    |   #   |\n",
      "+=============+=======+\n",
      "| Accuracy    | 0.850 |\n",
      "+-------------+-------+\n",
      "| Precision   | 0.857 |\n",
      "+-------------+-------+\n",
      "| Sensitivity | 0.923 |\n",
      "+-------------+-------+\n",
      "| Specificity | 0.714 |\n",
      "+-------------+-------+\n",
      "| F1 Score    | 0.889 |\n",
      "+-------------+-------+\n",
      "['active(A) :-   ind1(A,1.0).', 'active(A) :-   bond(A,B,C,1), bond(A,D,B,2), bond(A,B,E,2).', 'active(A) :-   bond(A,B,C,2), bond(A,C,D,1), ring_size_5(A,E).']\n",
      "+----------+ Testing +----------+\n",
      "+---------------------+------------------+------------------+\n",
      "|       n = 19        | Positive(Actual) | Negative(Actual) |\n",
      "+=====================+==================+==================+\n",
      "| Positive(Predicted) | 12               | 3                |\n",
      "+---------------------+------------------+------------------+\n",
      "| Negative(Predicted) | 1                | 3                |\n",
      "+---------------------+------------------+------------------+\n",
      "+-------------+-------+\n",
      "|   Metric    |   #   |\n",
      "+=============+=======+\n",
      "| Accuracy    | 0.789 |\n",
      "+-------------+-------+\n",
      "| Precision   | 0.800 |\n",
      "+-------------+-------+\n",
      "| Sensitivity | 0.923 |\n",
      "+-------------+-------+\n",
      "| Specificity | 0.500 |\n",
      "+-------------+-------+\n",
      "| F1 Score    | 0.857 |\n",
      "+-------------+-------+\n",
      "['active(A) :-   ind1(A,1.0).', 'active(A) :-   bond(A,B,C,2), bond(A,C,D,1), ring_size_5(A,E).', 'active(A) :-   atm(A,B,n,34,C), atm(A,D,n,34,C), bond(A,B,D,7).']\n",
      "+----------+ Testing +----------+\n",
      "+---------------------+------------------+------------------+\n",
      "|       n = 19        | Positive(Actual) | Negative(Actual) |\n",
      "+=====================+==================+==================+\n",
      "| Positive(Predicted) | 12               | 0                |\n",
      "+---------------------+------------------+------------------+\n",
      "| Negative(Predicted) | 1                | 6                |\n",
      "+---------------------+------------------+------------------+\n",
      "+-------------+-------+\n",
      "|   Metric    |   #   |\n",
      "+=============+=======+\n",
      "| Accuracy    | 0.947 |\n",
      "+-------------+-------+\n",
      "| Precision   | 1     |\n",
      "+-------------+-------+\n",
      "| Sensitivity | 0.923 |\n",
      "+-------------+-------+\n",
      "| Specificity | 1     |\n",
      "+-------------+-------+\n",
      "| F1 Score    | 0.960 |\n",
      "+-------------+-------+\n",
      "['active(A) :-   ind1(A,1.0).', 'active(A) :-   atm(A,B,c,16,C), ring_size_5(A,D).', 'active(A) :-   atm(A,B,n,34,C), atm(A,D,n,34,C), bond(A,B,D,7).']\n",
      "+----------+ Testing +----------+\n",
      "+---------------------+------------------+------------------+\n",
      "|       n = 18        | Positive(Actual) | Negative(Actual) |\n",
      "+=====================+==================+==================+\n",
      "| Positive(Predicted) | 11               | 0                |\n",
      "+---------------------+------------------+------------------+\n",
      "| Negative(Predicted) | 1                | 6                |\n",
      "+---------------------+------------------+------------------+\n",
      "+-------------+-------+\n",
      "|   Metric    |   #   |\n",
      "+=============+=======+\n",
      "| Accuracy    | 0.944 |\n",
      "+-------------+-------+\n",
      "| Precision   | 1     |\n",
      "+-------------+-------+\n",
      "| Sensitivity | 0.917 |\n",
      "+-------------+-------+\n",
      "| Specificity | 1     |\n",
      "+-------------+-------+\n",
      "| F1 Score    | 0.957 |\n",
      "+-------------+-------+\n",
      "['active(A) :-   ind1(A,1.0).', 'active(A) :-   bond(A,B,C,2), bond(A,C,D,1), ring_size_5(A,E).', 'active(A) :-   atm(A,B,n,34,C), atm(A,D,n,34,C), bond(A,B,D,7).', 'active(A) :-   atm(A,B,c,29,C), atm(A,D,n,38,E), bond(A,D,F,1).']\n",
      "+----------+ Testing +----------+\n",
      "+---------------------+------------------+------------------+\n",
      "|       n = 18        | Positive(Actual) | Negative(Actual) |\n",
      "+=====================+==================+==================+\n",
      "| Positive(Predicted) | 11               | 2                |\n",
      "+---------------------+------------------+------------------+\n",
      "| Negative(Predicted) | 1                | 4                |\n",
      "+---------------------+------------------+------------------+\n",
      "+-------------+-------+\n",
      "|   Metric    |   #   |\n",
      "+=============+=======+\n",
      "| Accuracy    | 0.833 |\n",
      "+-------------+-------+\n",
      "| Precision   | 0.846 |\n",
      "+-------------+-------+\n",
      "| Sensitivity | 0.917 |\n",
      "+-------------+-------+\n",
      "| Specificity | 0.667 |\n",
      "+-------------+-------+\n",
      "| F1 Score    | 0.880 |\n",
      "+-------------+-------+\n",
      "['active(A) :-   ind1(A,1.0).', 'active(A) :-   bond(A,B,C,2), bond(A,C,D,1), ring_size_5(A,E).', 'active(A) :-   atm(A,B,n,34,C), atm(A,D,n,34,C), bond(A,B,D,7).', 'active(A) :-   atm(A,B,c,29,C), bond(A,D,E,1), bond(A,F,D,2).']\n",
      "+----------+ Testing +----------+\n",
      "+---------------------+------------------+------------------+\n",
      "|       n = 18        | Positive(Actual) | Negative(Actual) |\n",
      "+=====================+==================+==================+\n",
      "| Positive(Predicted) | 12               | 0                |\n",
      "+---------------------+------------------+------------------+\n",
      "| Negative(Predicted) | 0                | 6                |\n",
      "+---------------------+------------------+------------------+\n",
      "+-------------+---+\n",
      "|   Metric    | # |\n",
      "+=============+===+\n",
      "| Accuracy    | 1 |\n",
      "+-------------+---+\n",
      "| Precision   | 1 |\n",
      "+-------------+---+\n",
      "| Sensitivity | 1 |\n",
      "+-------------+---+\n",
      "| Specificity | 1 |\n",
      "+-------------+---+\n",
      "| F1 Score    | 1 |\n",
      "+-------------+---+\n",
      "['active(A) :-   ind1(A,1.0).', 'active(A) :-   bond(A,B,C,2), bond(A,C,D,1), ring_size_5(A,E).', 'active(A) :-   atm(A,B,c,29,C), bond(A,D,E,1), bond(A,F,D,2).']\n",
      "+----------+ Testing +----------+\n",
      "+---------------------+------------------+------------------+\n",
      "|       n = 18        | Positive(Actual) | Negative(Actual) |\n",
      "+=====================+==================+==================+\n",
      "| Positive(Predicted) | 11               | 0                |\n",
      "+---------------------+------------------+------------------+\n",
      "| Negative(Predicted) | 1                | 6                |\n",
      "+---------------------+------------------+------------------+\n",
      "+-------------+-------+\n",
      "|   Metric    |   #   |\n",
      "+=============+=======+\n",
      "| Accuracy    | 0.944 |\n",
      "+-------------+-------+\n",
      "| Precision   | 1     |\n",
      "+-------------+-------+\n",
      "| Sensitivity | 0.917 |\n",
      "+-------------+-------+\n",
      "| Specificity | 1     |\n",
      "+-------------+-------+\n",
      "| F1 Score    | 0.957 |\n",
      "+-------------+-------+\n"
     ]
    },
    {
     "name": "stdout",
     "output_type": "stream",
     "text": [
      "['active(A) :-   ind1(A,1.0).', 'active(A) :-   bond(A,B,C,1), bond(A,D,B,2), bond(A,B,E,2).', 'active(A) :-   bond(A,B,C,2), bond(A,C,D,1), ring_size_5(A,E).', 'active(A) :-   atm(A,B,n,34,C), atm(A,D,n,34,C), bond(A,B,D,7).']\n",
      "+----------+ Testing +----------+\n",
      "+---------------------+------------------+------------------+\n",
      "|       n = 18        | Positive(Actual) | Negative(Actual) |\n",
      "+=====================+==================+==================+\n",
      "| Positive(Predicted) | 10               | 2                |\n",
      "+---------------------+------------------+------------------+\n",
      "| Negative(Predicted) | 2                | 4                |\n",
      "+---------------------+------------------+------------------+\n",
      "+-------------+-------+\n",
      "|   Metric    |   #   |\n",
      "+=============+=======+\n",
      "| Accuracy    | 0.778 |\n",
      "+-------------+-------+\n",
      "| Precision   | 0.833 |\n",
      "+-------------+-------+\n",
      "| Sensitivity | 0.833 |\n",
      "+-------------+-------+\n",
      "| Specificity | 0.667 |\n",
      "+-------------+-------+\n",
      "| F1 Score    | 0.833 |\n",
      "+-------------+-------+\n"
     ]
    }
   ],
   "source": [
    "model_2=aleph_cross_validation(file=\"background.pl\", shuffle=True, CV=10, settings=\"modes.pl\")"
   ]
  },
  {
   "cell_type": "code",
   "execution_count": 5,
   "id": "b3a5adcd",
   "metadata": {},
   "outputs": [
    {
     "data": {
      "text/plain": [
       "[0.75, 0.9, 0.85, 0.789, 0.947, 0.944, 0.833, 1.0, 0.944, 0.778]"
      ]
     },
     "execution_count": 5,
     "metadata": {},
     "output_type": "execute_result"
    }
   ],
   "source": [
    "model_2.accuracy"
   ]
  },
  {
   "cell_type": "code",
   "execution_count": 6,
   "id": "f37bb064",
   "metadata": {},
   "outputs": [
    {
     "data": {
      "text/plain": [
       "0.8734999999999999"
      ]
     },
     "execution_count": 6,
     "metadata": {},
     "output_type": "execute_result"
    }
   ],
   "source": [
    "np.mean(model_2.accuracy)"
   ]
  }
 ],
 "metadata": {
  "kernelspec": {
   "display_name": "Python 3",
   "language": "python",
   "name": "python3"
  },
  "language_info": {
   "codemirror_mode": {
    "name": "ipython",
    "version": 3
   },
   "file_extension": ".py",
   "mimetype": "text/x-python",
   "name": "python",
   "nbconvert_exporter": "python",
   "pygments_lexer": "ipython3",
   "version": "3.8.8"
  }
 },
 "nbformat": 4,
 "nbformat_minor": 5
}
