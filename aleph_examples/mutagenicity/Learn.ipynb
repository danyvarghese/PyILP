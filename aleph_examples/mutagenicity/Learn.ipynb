{
 "cells": [
  {
   "cell_type": "code",
   "execution_count": null,
   "id": "1d62b46d",
   "metadata": {},
   "outputs": [],
   "source": [
    "import sys\n",
    "sys.path.insert(0, '../../PyILP')\n",
    "from PyILP import *"
   ]
  },
  {
   "cell_type": "code",
   "execution_count": null,
   "id": "d867f7da",
   "metadata": {},
   "outputs": [],
   "source": [
    "model_1=aleph_learn(file=\"background.pl\", test_size=0.25,  settings=\"modes.pl\")"
   ]
  },
  {
   "cell_type": "code",
   "execution_count": null,
   "id": "dc2046c5",
   "metadata": {},
   "outputs": [],
   "source": [
    "model_1.hypothesis"
   ]
  },
  {
   "cell_type": "code",
   "execution_count": null,
   "id": "6b27036b",
   "metadata": {},
   "outputs": [],
   "source": [
    "model_1.accuracy"
   ]
  },
  {
   "cell_type": "code",
   "execution_count": null,
   "id": "7994e282",
   "metadata": {
    "scrolled": true
   },
   "outputs": [],
   "source": [
    "model_2=aleph_cross_validation(file=\"background.pl\", shuffle=True, CV=10, settings=\"modes.pl\")"
   ]
  },
  {
   "cell_type": "code",
   "execution_count": null,
   "id": "b3a5adcd",
   "metadata": {},
   "outputs": [],
   "source": [
    "model_2.accuracy"
   ]
  },
  {
   "cell_type": "code",
   "execution_count": null,
   "id": "f37bb064",
   "metadata": {},
   "outputs": [],
   "source": [
    "np.mean(model_2.accuracy)"
   ]
  },
  {
   "cell_type": "code",
   "execution_count": null,
   "id": "de92ba8d",
   "metadata": {},
   "outputs": [],
   "source": []
  }
 ],
 "metadata": {
  "kernelspec": {
   "display_name": "Python 3 (ipykernel)",
   "language": "python",
   "name": "python3"
  },
  "language_info": {
   "codemirror_mode": {
    "name": "ipython",
    "version": 3
   },
   "file_extension": ".py",
   "mimetype": "text/x-python",
   "name": "python",
   "nbconvert_exporter": "python",
   "pygments_lexer": "ipython3",
   "version": "3.12.2"
  }
 },
 "nbformat": 4,
 "nbformat_minor": 5
}
