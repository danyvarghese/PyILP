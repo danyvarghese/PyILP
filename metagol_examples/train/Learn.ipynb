{
 "cells": [
  {
   "cell_type": "code",
   "execution_count": 1,
   "id": "b9dfccd7",
   "metadata": {},
   "outputs": [],
   "source": [
    "import sys\n",
    "sys.path.insert(0, '../../PyILP')\n",
    "from PyILP import *\n",
    "#/home/dany/Documents/Academic_Data/Experiments/PyILP/PyILP"
   ]
  },
  {
   "cell_type": "code",
   "execution_count": 2,
   "id": "a905bb91",
   "metadata": {
    "scrolled": true
   },
   "outputs": [
    {
     "name": "stdout",
     "output_type": "stream",
     "text": [
      "% learning e/1\n",
      "% clauses: 1\n",
      "% clauses: 2\n",
      "e(A):-has_car(A,B),e_1(B).\n",
      "e_1(A):-short(A),closed(A).\n",
      "['e(A):-has_car(A,B),e_1(B)', 'e_1(A):-short(A),closed(A)']\n",
      "+----------+ Learning +----------+\n",
      "+---------------------+------------------+------------------+\n",
      "|       n = 10        | Positive(Actual) | Negative(Actual) |\n",
      "+=====================+==================+==================+\n",
      "| Positive(Predicted) | 5                | 0                |\n",
      "+---------------------+------------------+------------------+\n",
      "| Negative(Predicted) | 0                | 5                |\n",
      "+---------------------+------------------+------------------+\n",
      "+-------------+---+\n",
      "|   Metric    | # |\n",
      "+=============+===+\n",
      "| Accuracy    | 1 |\n",
      "+-------------+---+\n",
      "| Precision   | 1 |\n",
      "+-------------+---+\n",
      "| Sensitivity | 1 |\n",
      "+-------------+---+\n",
      "| Specificity | 1 |\n",
      "+-------------+---+\n",
      "| F1 Score    | 1 |\n",
      "+-------------+---+\n"
     ]
    },
    {
     "name": "stderr",
     "output_type": "stream",
     "text": [
      "Warning: /Users/danyvarghese/Library/CloudStorage/OneDrive-UniversityofSurrey/PyILP/PyILP-main/metagol_examples/train/copy_bk.pl:2:\n",
      "Warning:    Redefined static procedure car/1\n",
      "Warning:    Previously defined at /Users/danyvarghese/Library/CloudStorage/OneDrive-UniversityofSurrey/PyILP/PyILP-main/metagol_examples/train/processed_bk.pl:27\n",
      "Warning: /Users/danyvarghese/Library/CloudStorage/OneDrive-UniversityofSurrey/PyILP/PyILP-main/metagol_examples/train/copy_bk.pl:33:\n",
      "Warning:    Redefined static procedure shape/1\n",
      "Warning:    Previously defined at /Users/danyvarghese/Library/CloudStorage/OneDrive-UniversityofSurrey/PyILP/PyILP-main/metagol_examples/train/processed_bk.pl:58\n",
      "Warning: /Users/danyvarghese/Library/CloudStorage/OneDrive-UniversityofSurrey/PyILP/PyILP-main/metagol_examples/train/copy_bk.pl:41:\n",
      "Warning:    Redefined static procedure train/1\n",
      "Warning:    Previously defined at /Users/danyvarghese/Library/CloudStorage/OneDrive-UniversityofSurrey/PyILP/PyILP-main/metagol_examples/train/processed_bk.pl:66\n",
      "Warning: /Users/danyvarghese/Library/CloudStorage/OneDrive-UniversityofSurrey/PyILP/PyILP-main/metagol_examples/train/copy_bk.pl:52:\n",
      "Warning:    Redefined static procedure closed/1\n",
      "Warning:    Previously defined at /Users/danyvarghese/Library/CloudStorage/OneDrive-UniversityofSurrey/PyILP/PyILP-main/metagol_examples/train/processed_bk.pl:77\n",
      "Warning: /Users/danyvarghese/Library/CloudStorage/OneDrive-UniversityofSurrey/PyILP/PyILP-main/metagol_examples/train/copy_bk.pl:61:\n",
      "Warning:    Redefined static procedure double/1\n",
      "Warning:    Previously defined at /Users/danyvarghese/Library/CloudStorage/OneDrive-UniversityofSurrey/PyILP/PyILP-main/metagol_examples/train/processed_bk.pl:86\n",
      "Warning: /Users/danyvarghese/Library/CloudStorage/OneDrive-UniversityofSurrey/PyILP/PyILP-main/metagol_examples/train/copy_bk.pl:64:\n",
      "Warning:    Redefined static procedure has_car/2\n",
      "Warning:    Previously defined at /Users/danyvarghese/Library/CloudStorage/OneDrive-UniversityofSurrey/PyILP/PyILP-main/metagol_examples/train/processed_bk.pl:89\n",
      "Warning: /Users/danyvarghese/Library/CloudStorage/OneDrive-UniversityofSurrey/PyILP/PyILP-main/metagol_examples/train/copy_bk.pl:94:\n",
      "Warning:    Redefined static procedure jagged/1\n",
      "Warning:    Previously defined at /Users/danyvarghese/Library/CloudStorage/OneDrive-UniversityofSurrey/PyILP/PyILP-main/metagol_examples/train/processed_bk.pl:119\n",
      "Warning: /Users/danyvarghese/Library/CloudStorage/OneDrive-UniversityofSurrey/PyILP/PyILP-main/metagol_examples/train/copy_bk.pl:96:\n",
      "Warning:    Redefined static procedure load/3\n",
      "Warning:    Previously defined at /Users/danyvarghese/Library/CloudStorage/OneDrive-UniversityofSurrey/PyILP/PyILP-main/metagol_examples/train/processed_bk.pl:121\n",
      "Warning: /Users/danyvarghese/Library/CloudStorage/OneDrive-UniversityofSurrey/PyILP/PyILP-main/metagol_examples/train/copy_bk.pl:126:\n",
      "Warning:    Redefined static procedure long/1\n",
      "Warning:    Previously defined at /Users/danyvarghese/Library/CloudStorage/OneDrive-UniversityofSurrey/PyILP/PyILP-main/metagol_examples/train/processed_bk.pl:151\n",
      "Warning: /Users/danyvarghese/Library/CloudStorage/OneDrive-UniversityofSurrey/PyILP/PyILP-main/metagol_examples/train/copy_bk.pl:134:\n",
      "Warning:    Redefined static procedure open_car/1\n",
      "Warning:    Previously defined at /Users/danyvarghese/Library/CloudStorage/OneDrive-UniversityofSurrey/PyILP/PyILP-main/metagol_examples/train/processed_bk.pl:159\n",
      "Warning: /Users/danyvarghese/Library/CloudStorage/OneDrive-UniversityofSurrey/PyILP/PyILP-main/metagol_examples/train/copy_bk.pl:153:\n",
      "Warning:    Redefined static procedure shape/2\n",
      "Warning:    Previously defined at /Users/danyvarghese/Library/CloudStorage/OneDrive-UniversityofSurrey/PyILP/PyILP-main/metagol_examples/train/processed_bk.pl:178\n",
      "Warning: /Users/danyvarghese/Library/CloudStorage/OneDrive-UniversityofSurrey/PyILP/PyILP-main/metagol_examples/train/copy_bk.pl:183:\n",
      "Warning:    Redefined static procedure short/1\n",
      "Warning:    Previously defined at /Users/danyvarghese/Library/CloudStorage/OneDrive-UniversityofSurrey/PyILP/PyILP-main/metagol_examples/train/processed_bk.pl:208\n",
      "Warning: /Users/danyvarghese/Library/CloudStorage/OneDrive-UniversityofSurrey/PyILP/PyILP-main/metagol_examples/train/copy_bk.pl:205:\n",
      "Warning:    Redefined static procedure wheels/2\n",
      "Warning:    Previously defined at /Users/danyvarghese/Library/CloudStorage/OneDrive-UniversityofSurrey/PyILP/PyILP-main/metagol_examples/train/processed_bk.pl:230\n"
     ]
    }
   ],
   "source": [
    "model_1=metagol_learn(test_size=0, settings=\"meta.pl\")"
   ]
  },
  {
   "cell_type": "code",
   "execution_count": 3,
   "id": "ce7050ed",
   "metadata": {},
   "outputs": [
    {
     "data": {
      "text/plain": [
       "['e(A):-has_car(A,B),e_1(B)', 'e_1(A):-short(A),closed(A)']"
      ]
     },
     "execution_count": 3,
     "metadata": {},
     "output_type": "execute_result"
    }
   ],
   "source": [
    "model_1.hypothesis"
   ]
  },
  {
   "cell_type": "code",
   "execution_count": 4,
   "id": "2452707b",
   "metadata": {},
   "outputs": [
    {
     "data": {
      "text/plain": [
       "1.0"
      ]
     },
     "execution_count": 4,
     "metadata": {},
     "output_type": "execute_result"
    }
   ],
   "source": [
    "model_1.accuracy"
   ]
  },
  {
   "cell_type": "code",
   "execution_count": 5,
   "id": "d72d86e2",
   "metadata": {
    "scrolled": true
   },
   "outputs": [
    {
     "name": "stdout",
     "output_type": "stream",
     "text": [
      "% learning e/1\n",
      "% clauses: 1\n",
      "e(A):-has_car(A,B),double(B).\n",
      "['e(A):-has_car(A,B),double(B)']\n",
      "+----------+ Testing +----------+\n",
      "+---------------------+------------------+------------------+\n",
      "|        n = 6        | Positive(Actual) | Negative(Actual) |\n",
      "+=====================+==================+==================+\n",
      "| Positive(Predicted) | 0                | 1                |\n",
      "+---------------------+------------------+------------------+\n",
      "| Negative(Predicted) | 3                | 2                |\n",
      "+---------------------+------------------+------------------+\n",
      "+-------------+-------+\n",
      "|   Metric    |   #   |\n",
      "+=============+=======+\n",
      "| Accuracy    | 0.333 |\n",
      "+-------------+-------+\n",
      "| Precision   | 0     |\n",
      "+-------------+-------+\n",
      "| Sensitivity | 0     |\n",
      "+-------------+-------+\n",
      "| Specificity | 0.667 |\n",
      "+-------------+-------+\n",
      "| F1 Score    | 0     |\n",
      "+-------------+-------+\n",
      "% learning e/1\n",
      "% clauses: 1\n",
      "% clauses: 2\n",
      "e(A):-has_car(A,B),e_1(B).\n",
      "e_1(A):-short(A),closed(A).\n",
      "['e(A):-has_car(A,B),e_1(B)', 'e_1(A):-short(A),closed(A)']\n",
      "+----------+ Testing +----------+\n",
      "+---------------------+------------------+------------------+\n",
      "|        n = 4        | Positive(Actual) | Negative(Actual) |\n",
      "+=====================+==================+==================+\n",
      "| Positive(Predicted) | 2                | 0                |\n",
      "+---------------------+------------------+------------------+\n",
      "| Negative(Predicted) | 0                | 2                |\n",
      "+---------------------+------------------+------------------+\n",
      "+-------------+---+\n",
      "|   Metric    | # |\n",
      "+=============+===+\n",
      "| Accuracy    | 1 |\n",
      "+-------------+---+\n",
      "| Precision   | 1 |\n",
      "+-------------+---+\n",
      "| Sensitivity | 1 |\n",
      "+-------------+---+\n",
      "| Specificity | 1 |\n",
      "+-------------+---+\n",
      "| F1 Score    | 1 |\n",
      "+-------------+---+\n"
     ]
    }
   ],
   "source": [
    "model_2=metagol_cross_validation(CV=2, settings=\"meta.pl\")"
   ]
  },
  {
   "cell_type": "code",
   "execution_count": 6,
   "id": "c96bc8c7",
   "metadata": {},
   "outputs": [
    {
     "data": {
      "text/plain": [
       "[0.333, 1.0]"
      ]
     },
     "execution_count": 6,
     "metadata": {},
     "output_type": "execute_result"
    }
   ],
   "source": [
    "model_2.accuracy"
   ]
  },
  {
   "cell_type": "code",
   "execution_count": 7,
   "id": "df51ed92",
   "metadata": {},
   "outputs": [
    {
     "name": "stdout",
     "output_type": "stream",
     "text": [
      "% learning e/1\n",
      "% clauses: 1\n",
      "% clauses: 2\n",
      "e(A):-has_car(A,B),e_1(B).\n",
      "e_1(A):-short(A),closed(A).\n",
      "['e(A):-has_car(A,B),e_1(B)', 'e_1(A):-short(A),closed(A)']\n"
     ]
    },
    {
     "name": "stderr",
     "output_type": "stream",
     "text": [
      "Warning: /Users/danyvarghese/Library/CloudStorage/OneDrive-UniversityofSurrey/PyILP/PyILP-main/metagol_examples/train/mtrain_mil.pl:20:\n",
      "Warning:    Redefined static procedure metagol:metarule/6\n",
      "Warning:    Previously defined at /Users/danyvarghese/Library/CloudStorage/OneDrive-UniversityofSurrey/PyILP/PyILP-main/metagol_examples/train/processed_bk.pl:19\n",
      "Warning: /Users/danyvarghese/Library/CloudStorage/OneDrive-UniversityofSurrey/PyILP/PyILP-main/metagol_examples/train/mtrain_mil.pl:29:\n",
      "Warning:    Redefined static procedure car/1\n",
      "Warning:    Previously defined at /Users/danyvarghese/Library/CloudStorage/OneDrive-UniversityofSurrey/PyILP/PyILP-main/metagol_examples/train/copy_bk.pl:2\n",
      "Warning: /Users/danyvarghese/Library/CloudStorage/OneDrive-UniversityofSurrey/PyILP/PyILP-main/metagol_examples/train/mtrain_mil.pl:60:\n",
      "Warning:    Redefined static procedure shape/1\n",
      "Warning:    Previously defined at /Users/danyvarghese/Library/CloudStorage/OneDrive-UniversityofSurrey/PyILP/PyILP-main/metagol_examples/train/copy_bk.pl:33\n",
      "Warning: /Users/danyvarghese/Library/CloudStorage/OneDrive-UniversityofSurrey/PyILP/PyILP-main/metagol_examples/train/mtrain_mil.pl:68:\n",
      "Warning:    Redefined static procedure train/1\n",
      "Warning:    Previously defined at /Users/danyvarghese/Library/CloudStorage/OneDrive-UniversityofSurrey/PyILP/PyILP-main/metagol_examples/train/copy_bk.pl:41\n",
      "Warning: /Users/danyvarghese/Library/CloudStorage/OneDrive-UniversityofSurrey/PyILP/PyILP-main/metagol_examples/train/mtrain_mil.pl:79:\n",
      "Warning:    Redefined static procedure closed/1\n",
      "Warning:    Previously defined at /Users/danyvarghese/Library/CloudStorage/OneDrive-UniversityofSurrey/PyILP/PyILP-main/metagol_examples/train/copy_bk.pl:52\n",
      "Warning: /Users/danyvarghese/Library/CloudStorage/OneDrive-UniversityofSurrey/PyILP/PyILP-main/metagol_examples/train/mtrain_mil.pl:88:\n",
      "Warning:    Redefined static procedure double/1\n",
      "Warning:    Previously defined at /Users/danyvarghese/Library/CloudStorage/OneDrive-UniversityofSurrey/PyILP/PyILP-main/metagol_examples/train/copy_bk.pl:61\n",
      "Warning: /Users/danyvarghese/Library/CloudStorage/OneDrive-UniversityofSurrey/PyILP/PyILP-main/metagol_examples/train/mtrain_mil.pl:91:\n",
      "Warning:    Redefined static procedure has_car/2\n",
      "Warning:    Previously defined at /Users/danyvarghese/Library/CloudStorage/OneDrive-UniversityofSurrey/PyILP/PyILP-main/metagol_examples/train/copy_bk.pl:64\n",
      "Warning: /Users/danyvarghese/Library/CloudStorage/OneDrive-UniversityofSurrey/PyILP/PyILP-main/metagol_examples/train/mtrain_mil.pl:121:\n",
      "Warning:    Redefined static procedure jagged/1\n",
      "Warning:    Previously defined at /Users/danyvarghese/Library/CloudStorage/OneDrive-UniversityofSurrey/PyILP/PyILP-main/metagol_examples/train/copy_bk.pl:94\n",
      "Warning: /Users/danyvarghese/Library/CloudStorage/OneDrive-UniversityofSurrey/PyILP/PyILP-main/metagol_examples/train/mtrain_mil.pl:123:\n",
      "Warning:    Redefined static procedure load/3\n",
      "Warning:    Previously defined at /Users/danyvarghese/Library/CloudStorage/OneDrive-UniversityofSurrey/PyILP/PyILP-main/metagol_examples/train/copy_bk.pl:96\n",
      "Warning: /Users/danyvarghese/Library/CloudStorage/OneDrive-UniversityofSurrey/PyILP/PyILP-main/metagol_examples/train/mtrain_mil.pl:153:\n",
      "Warning:    Redefined static procedure long/1\n",
      "Warning:    Previously defined at /Users/danyvarghese/Library/CloudStorage/OneDrive-UniversityofSurrey/PyILP/PyILP-main/metagol_examples/train/copy_bk.pl:126\n",
      "Warning: /Users/danyvarghese/Library/CloudStorage/OneDrive-UniversityofSurrey/PyILP/PyILP-main/metagol_examples/train/mtrain_mil.pl:161:\n",
      "Warning:    Redefined static procedure open_car/1\n",
      "Warning:    Previously defined at /Users/danyvarghese/Library/CloudStorage/OneDrive-UniversityofSurrey/PyILP/PyILP-main/metagol_examples/train/copy_bk.pl:134\n",
      "Warning: /Users/danyvarghese/Library/CloudStorage/OneDrive-UniversityofSurrey/PyILP/PyILP-main/metagol_examples/train/mtrain_mil.pl:180:\n",
      "Warning:    Redefined static procedure shape/2\n",
      "Warning:    Previously defined at /Users/danyvarghese/Library/CloudStorage/OneDrive-UniversityofSurrey/PyILP/PyILP-main/metagol_examples/train/copy_bk.pl:153\n",
      "Warning: /Users/danyvarghese/Library/CloudStorage/OneDrive-UniversityofSurrey/PyILP/PyILP-main/metagol_examples/train/mtrain_mil.pl:210:\n",
      "Warning:    Redefined static procedure short/1\n",
      "Warning:    Previously defined at /Users/danyvarghese/Library/CloudStorage/OneDrive-UniversityofSurrey/PyILP/PyILP-main/metagol_examples/train/copy_bk.pl:183\n",
      "Warning: /Users/danyvarghese/Library/CloudStorage/OneDrive-UniversityofSurrey/PyILP/PyILP-main/metagol_examples/train/mtrain_mil.pl:232:\n",
      "Warning:    Redefined static procedure wheels/2\n",
      "Warning:    Previously defined at /Users/danyvarghese/Library/CloudStorage/OneDrive-UniversityofSurrey/PyILP/PyILP-main/metagol_examples/train/copy_bk.pl:205\n"
     ]
    }
   ],
   "source": [
    "model_1=metagol_learn(file=\"mtrain_mil.pl\", test_size=0, positive_example=[], negative_example=[])"
   ]
  },
  {
   "cell_type": "code",
   "execution_count": 8,
   "id": "f378edbd",
   "metadata": {},
   "outputs": [
    {
     "data": {
      "text/plain": [
       "['e(A):-has_car(A,B),e_1(B)', 'e_1(A):-short(A),closed(A)']"
      ]
     },
     "execution_count": 8,
     "metadata": {},
     "output_type": "execute_result"
    }
   ],
   "source": [
    "model_1.hypothesis"
   ]
  },
  {
   "cell_type": "code",
   "execution_count": null,
   "id": "549573e1-65cd-476f-ae3b-9723f397ac45",
   "metadata": {},
   "outputs": [],
   "source": []
  }
 ],
 "metadata": {
  "kernelspec": {
   "display_name": "Python 3 (ipykernel)",
   "language": "python",
   "name": "python3"
  },
  "language_info": {
   "codemirror_mode": {
    "name": "ipython",
    "version": 3
   },
   "file_extension": ".py",
   "mimetype": "text/x-python",
   "name": "python",
   "nbconvert_exporter": "python",
   "pygments_lexer": "ipython3",
   "version": "3.12.2"
  }
 },
 "nbformat": 4,
 "nbformat_minor": 5
}
