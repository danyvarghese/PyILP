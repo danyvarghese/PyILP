{
 "cells": [
  {
   "cell_type": "code",
   "execution_count": 2,
   "id": "b9dfccd7",
   "metadata": {},
   "outputs": [
    {
     "ename": "ModuleNotFoundError",
     "evalue": "No module named 'PyILP'",
     "output_type": "error",
     "traceback": [
      "\u001b[0;31m---------------------------------------------------------------------------\u001b[0m",
      "\u001b[0;31mModuleNotFoundError\u001b[0m                       Traceback (most recent call last)",
      "\u001b[0;32m<ipython-input-2-e5e07c981249>\u001b[0m in \u001b[0;36m<module>\u001b[0;34m\u001b[0m\n\u001b[1;32m      1\u001b[0m \u001b[0;32mimport\u001b[0m \u001b[0msys\u001b[0m\u001b[0;34m\u001b[0m\u001b[0;34m\u001b[0m\u001b[0m\n\u001b[1;32m      2\u001b[0m \u001b[0msys\u001b[0m\u001b[0;34m.\u001b[0m\u001b[0mpath\u001b[0m\u001b[0;34m.\u001b[0m\u001b[0minsert\u001b[0m\u001b[0;34m(\u001b[0m\u001b[0;36m0\u001b[0m\u001b[0;34m,\u001b[0m \u001b[0;34m'PyILP/PyILP'\u001b[0m\u001b[0;34m)\u001b[0m\u001b[0;34m\u001b[0m\u001b[0;34m\u001b[0m\u001b[0m\n\u001b[0;32m----> 3\u001b[0;31m \u001b[0;32mfrom\u001b[0m \u001b[0mPyILP\u001b[0m \u001b[0;32mimport\u001b[0m \u001b[0;34m*\u001b[0m\u001b[0;34m\u001b[0m\u001b[0;34m\u001b[0m\u001b[0m\n\u001b[0m\u001b[1;32m      4\u001b[0m \u001b[0;31m#/home/dany/Documents/Academic_Data/Experiments/PyILP/PyILP\u001b[0m\u001b[0;34m\u001b[0m\u001b[0;34m\u001b[0m\u001b[0;34m\u001b[0m\u001b[0m\n",
      "\u001b[0;31mModuleNotFoundError\u001b[0m: No module named 'PyILP'"
     ]
    }
   ],
   "source": [
    "import sys\n",
    "sys.path.insert(0, 'PyILP/PyILP')\n",
    "from PyILP import *\n",
    "#/home/dany/Documents/Academic_Data/Experiments/PyILP/PyILP"
   ]
  },
  {
   "cell_type": "code",
   "execution_count": null,
   "id": "a905bb91",
   "metadata": {
    "scrolled": true
   },
   "outputs": [],
   "source": [
    "model_1=metagol_learn(test_size=0, settings=\"meta.pl\")"
   ]
  },
  {
   "cell_type": "code",
   "execution_count": null,
   "id": "ce7050ed",
   "metadata": {},
   "outputs": [],
   "source": [
    "model_1.hypothesis"
   ]
  },
  {
   "cell_type": "code",
   "execution_count": null,
   "id": "2452707b",
   "metadata": {},
   "outputs": [],
   "source": [
    "model_1.accuracy"
   ]
  },
  {
   "cell_type": "code",
   "execution_count": null,
   "id": "d72d86e2",
   "metadata": {
    "scrolled": true
   },
   "outputs": [],
   "source": [
    "model_2=metagol_cross_validation(CV=2, settings=\"meta.pl\")"
   ]
  },
  {
   "cell_type": "code",
   "execution_count": null,
   "id": "c96bc8c7",
   "metadata": {},
   "outputs": [],
   "source": [
    "model_2.accuracy"
   ]
  },
  {
   "cell_type": "code",
   "execution_count": null,
   "id": "df51ed92",
   "metadata": {},
   "outputs": [],
   "source": [
    "model_1=metagol_learn(file=\"mtrain_mil.pl\", test_size=0, positive_example=[], negative_example=[])"
   ]
  },
  {
   "cell_type": "code",
   "execution_count": null,
   "id": "f378edbd",
   "metadata": {},
   "outputs": [],
   "source": [
    "model_1.hypothesis"
   ]
  },
  {
   "cell_type": "code",
   "execution_count": null,
   "id": "c62d3f4d",
   "metadata": {},
   "outputs": [],
   "source": [
    "#pip install yolk"
   ]
  }
 ],
 "metadata": {
  "kernelspec": {
   "display_name": "Python 3",
   "language": "python",
   "name": "python3"
  },
  "language_info": {
   "codemirror_mode": {
    "name": "ipython",
    "version": 3
   },
   "file_extension": ".py",
   "mimetype": "text/x-python",
   "name": "python",
   "nbconvert_exporter": "python",
   "pygments_lexer": "ipython3",
   "version": "3.8.8"
  }
 },
 "nbformat": 4,
 "nbformat_minor": 5
}
