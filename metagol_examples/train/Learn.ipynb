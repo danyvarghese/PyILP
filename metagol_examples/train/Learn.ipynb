{
 "cells": [
  {
   "cell_type": "code",
   "execution_count": 1,
   "id": "b9dfccd7",
   "metadata": {},
   "outputs": [],
   "source": [
    "import sys\n",
    "sys.path.insert(0, '../../')\n",
    "from PyILP import *"
   ]
  },
  {
   "cell_type": "code",
   "execution_count": 2,
   "id": "a905bb91",
   "metadata": {
    "scrolled": true
   },
   "outputs": [
    {
     "name": "stdout",
     "output_type": "stream",
     "text": [
      "['e(A):-has_car(A,B),e_1(B)', 'e_1(A):-short(A),closed(A)']\n",
      "+----------+ Learning +----------+\n",
      "+---------------------+------------------+------------------+\n",
      "|       n = 10        | Positive(Actual) | Negative(Actual) |\n",
      "+=====================+==================+==================+\n",
      "| Positive(Predicted) | 5                | 0                |\n",
      "+---------------------+------------------+------------------+\n",
      "| Negative(Predicted) | 0                | 5                |\n",
      "+---------------------+------------------+------------------+\n",
      "+-------------+---+\n",
      "|   Metric    | # |\n",
      "+=============+===+\n",
      "| Accuracy    | 1 |\n",
      "+-------------+---+\n",
      "| Precision   | 1 |\n",
      "+-------------+---+\n",
      "| Sensitivity | 1 |\n",
      "+-------------+---+\n",
      "| Specificity | 1 |\n",
      "+-------------+---+\n",
      "| F1 Score    | 1 |\n",
      "+-------------+---+\n"
     ]
    }
   ],
   "source": [
    "model_1=metagol_learn(test_size=0, settings=\"meta.pl\")"
   ]
  },
  {
   "cell_type": "code",
   "execution_count": 3,
   "id": "ce7050ed",
   "metadata": {},
   "outputs": [
    {
     "data": {
      "text/plain": [
       "['e(A):-has_car(A,B),e_1(B)', 'e_1(A):-short(A),closed(A)']"
      ]
     },
     "execution_count": 3,
     "metadata": {},
     "output_type": "execute_result"
    }
   ],
   "source": [
    "model_1.hypothesis"
   ]
  },
  {
   "cell_type": "code",
   "execution_count": 4,
   "id": "2452707b",
   "metadata": {},
   "outputs": [
    {
     "data": {
      "text/plain": [
       "1.0"
      ]
     },
     "execution_count": 4,
     "metadata": {},
     "output_type": "execute_result"
    }
   ],
   "source": [
    "model_1.accuracy"
   ]
  },
  {
   "cell_type": "code",
   "execution_count": 5,
   "id": "d72d86e2",
   "metadata": {
    "scrolled": true
   },
   "outputs": [
    {
     "name": "stdout",
     "output_type": "stream",
     "text": [
      "['e(A):-has_car(A,B),double(B)']\n",
      "+----------+ Testing +----------+\n",
      "+---------------------+------------------+------------------+\n",
      "|        n = 6        | Positive(Actual) | Negative(Actual) |\n",
      "+=====================+==================+==================+\n",
      "| Positive(Predicted) | 0                | 1                |\n",
      "+---------------------+------------------+------------------+\n",
      "| Negative(Predicted) | 3                | 2                |\n",
      "+---------------------+------------------+------------------+\n",
      "+-------------+-------+\n",
      "|   Metric    |   #   |\n",
      "+=============+=======+\n",
      "| Accuracy    | 0.333 |\n",
      "+-------------+-------+\n",
      "| Precision   | 0     |\n",
      "+-------------+-------+\n",
      "| Sensitivity | 0     |\n",
      "+-------------+-------+\n",
      "| Specificity | 0.667 |\n",
      "+-------------+-------+\n",
      "| F1 Score    | 0     |\n",
      "+-------------+-------+\n",
      "['e(A):-has_car(A,B),e_1(B)', 'e_1(A):-short(A),closed(A)']\n",
      "+----------+ Testing +----------+\n",
      "+---------------------+------------------+------------------+\n",
      "|        n = 4        | Positive(Actual) | Negative(Actual) |\n",
      "+=====================+==================+==================+\n",
      "| Positive(Predicted) | 2                | 0                |\n",
      "+---------------------+------------------+------------------+\n",
      "| Negative(Predicted) | 0                | 2                |\n",
      "+---------------------+------------------+------------------+\n",
      "+-------------+---+\n",
      "|   Metric    | # |\n",
      "+=============+===+\n",
      "| Accuracy    | 1 |\n",
      "+-------------+---+\n",
      "| Precision   | 1 |\n",
      "+-------------+---+\n",
      "| Sensitivity | 1 |\n",
      "+-------------+---+\n",
      "| Specificity | 1 |\n",
      "+-------------+---+\n",
      "| F1 Score    | 1 |\n",
      "+-------------+---+\n"
     ]
    }
   ],
   "source": [
    "model_2=metagol_cross_validation(CV=2, settings=\"meta.pl\")"
   ]
  },
  {
   "cell_type": "code",
   "execution_count": 6,
   "id": "c96bc8c7",
   "metadata": {},
   "outputs": [
    {
     "data": {
      "text/plain": [
       "[0.333, 1.0]"
      ]
     },
     "execution_count": 6,
     "metadata": {},
     "output_type": "execute_result"
    }
   ],
   "source": [
    "model_2.accuracy"
   ]
  },
  {
   "cell_type": "code",
   "execution_count": 7,
   "id": "df51ed92",
   "metadata": {},
   "outputs": [
    {
     "name": "stdout",
     "output_type": "stream",
     "text": [
      "['e(A):-has_car(A,B),e_1(B)', 'e_1(A):-short(A),closed(A)']\n"
     ]
    }
   ],
   "source": [
    "model_1=metagol_learn(file=\"mtrain_mil.pl\", test_size=0, positive_example=[], negative_example=[])"
   ]
  },
  {
   "cell_type": "code",
   "execution_count": 8,
   "id": "f378edbd",
   "metadata": {},
   "outputs": [
    {
     "data": {
      "text/plain": [
       "['e(A):-has_car(A,B),e_1(B)', 'e_1(A):-short(A),closed(A)']"
      ]
     },
     "execution_count": 8,
     "metadata": {},
     "output_type": "execute_result"
    }
   ],
   "source": [
    "model_1.hypothesis"
   ]
  }
 ],
 "metadata": {
  "kernelspec": {
   "display_name": "Python 3",
   "language": "python",
   "name": "python3"
  },
  "language_info": {
   "codemirror_mode": {
    "name": "ipython",
    "version": 3
   },
   "file_extension": ".py",
   "mimetype": "text/x-python",
   "name": "python",
   "nbconvert_exporter": "python",
   "pygments_lexer": "ipython3",
   "version": "3.8.8"
  }
 },
 "nbformat": 4,
 "nbformat_minor": 5
}
